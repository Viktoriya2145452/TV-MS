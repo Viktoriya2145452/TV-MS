{
  "nbformat": 4,
  "nbformat_minor": 0,
  "metadata": {
    "colab": {
      "provenance": []
    },
    "kernelspec": {
      "name": "python3",
      "display_name": "Python 3"
    },
    "language_info": {
      "name": "python"
    }
  },
  "cells": [
    {
      "cell_type": "markdown",
      "source": [
        "***1) Из колоды в 52 карты извлекаются случайным образом 4 карты.***"
      ],
      "metadata": {
        "id": "8YXAGPIRuuzf"
      }
    },
    {
      "cell_type": "markdown",
      "source": [
        "**a) Найти вероятность того, что все карты – крести.**"
      ],
      "metadata": {
        "id": "C7dLBWXOvNPF"
      }
    },
    {
      "cell_type": "markdown",
      "source": [
        "Воспользуемся формулой подсчета количества сочетаний и классической формулой вероятности:"
      ],
      "metadata": {
        "id": "jmoDvzoF3JuM"
      }
    },
    {
      "cell_type": "code",
      "execution_count": 1,
      "metadata": {
        "id": "imscxJBujK_d"
      },
      "outputs": [],
      "source": [
        "from math import factorial\n",
        "def combinations(n, k):\n",
        "    return int(factorial(n) / (factorial(k) * factorial(n - k)))"
      ]
    },
    {
      "cell_type": "code",
      "source": [
        "m=combinations(13, 4)\n",
        "print(f'm = {m}')"
      ],
      "metadata": {
        "colab": {
          "base_uri": "https://localhost:8080/"
        },
        "id": "IaSZza5AjRXz",
        "outputId": "49df671d-4e56-4c34-ba8b-8eaccce4a465"
      },
      "execution_count": 2,
      "outputs": [
        {
          "output_type": "stream",
          "name": "stdout",
          "text": [
            "m = 715\n"
          ]
        }
      ]
    },
    {
      "cell_type": "code",
      "source": [
        "n=combinations(52, 4)\n",
        "print(f'n = {n}')"
      ],
      "metadata": {
        "colab": {
          "base_uri": "https://localhost:8080/"
        },
        "id": "oI6p6k66jzJS",
        "outputId": "425ff79d-6412-41c2-f435-c4ac557d3d01"
      },
      "execution_count": 3,
      "outputs": [
        {
          "output_type": "stream",
          "name": "stdout",
          "text": [
            "n = 270725\n"
          ]
        }
      ]
    },
    {
      "cell_type": "code",
      "source": [
        "P=m/n\n",
        "print(f'P(4 крести) = {round(P,4)}')"
      ],
      "metadata": {
        "colab": {
          "base_uri": "https://localhost:8080/"
        },
        "id": "bVPa8n52j2sv",
        "outputId": "325e8015-5780-4efa-c90f-068bee30bd95"
      },
      "execution_count": 4,
      "outputs": [
        {
          "output_type": "stream",
          "name": "stdout",
          "text": [
            "P(4 крести) = 0.0026\n"
          ]
        }
      ]
    },
    {
      "cell_type": "markdown",
      "source": [
        "**б) Найти вероятность, что среди 4-х карт окажется хотя бы один туз.**"
      ],
      "metadata": {
        "id": "ZD0mOItNu0jv"
      }
    },
    {
      "cell_type": "code",
      "source": [
        "n=combinations(52, 4)\n",
        "print(f'n = {n}')"
      ],
      "metadata": {
        "colab": {
          "base_uri": "https://localhost:8080/"
        },
        "id": "WWY7O-ahu74z",
        "outputId": "1b5b5bb2-e756-4708-8fad-2bd003fa344b"
      },
      "execution_count": 5,
      "outputs": [
        {
          "output_type": "stream",
          "name": "stdout",
          "text": [
            "n = 270725\n"
          ]
        }
      ]
    },
    {
      "cell_type": "code",
      "source": [
        "m=sum([combinations(4,1)*combinations(48,3),combinations(4,2)*combinations(48,2),combinations(4,3)*combinations(48,1),1])\n",
        "print(f'm = {m}')"
      ],
      "metadata": {
        "colab": {
          "base_uri": "https://localhost:8080/"
        },
        "id": "viOJ2qXgvkYq",
        "outputId": "44363fcf-14a3-4875-f64d-1bf8ef6eadb9"
      },
      "execution_count": 6,
      "outputs": [
        {
          "output_type": "stream",
          "name": "stdout",
          "text": [
            "m = 76145\n"
          ]
        }
      ]
    },
    {
      "cell_type": "code",
      "source": [
        "P=m/n\n",
        "print(f'P(хотя бы 1 туз) = {round(P,4)}')"
      ],
      "metadata": {
        "colab": {
          "base_uri": "https://localhost:8080/"
        },
        "id": "LxvE-9g3vorU",
        "outputId": "1887ec59-4923-4e0c-88bc-d9f309ed0020"
      },
      "execution_count": 7,
      "outputs": [
        {
          "output_type": "stream",
          "name": "stdout",
          "text": [
            "P(хотя бы 1 туз) = 0.2813\n"
          ]
        }
      ]
    },
    {
      "cell_type": "markdown",
      "source": [
        "\n",
        "Ответ:\n",
        "а)0,26%\n",
        "б)28,13%"
      ],
      "metadata": {
        "id": "T5S2GkAwwFV5"
      }
    },
    {
      "cell_type": "markdown",
      "source": [
        "***2) На входной двери подъезда установлен кодовый замок, содержащий десять кнопок с цифрами от 0 до 9. Код содержит три цифры, которые нужно нажать одновременно. Какова вероятность того, что человек, не знающий код, откроет дверь с первой попытки?***"
      ],
      "metadata": {
        "id": "XHEn9qccv3ob"
      }
    },
    {
      "cell_type": "markdown",
      "source": [
        "Так как кнопки нажимаются одновременно, то порядок не важен, используем формулу вероятности:"
      ],
      "metadata": {
        "id": "Whfz887M35NU"
      }
    },
    {
      "cell_type": "code",
      "source": [
        "P=1/combinations(10,3)\n",
        "print(f'P(открыть с первой попытки) = {round(P,4)}')"
      ],
      "metadata": {
        "colab": {
          "base_uri": "https://localhost:8080/"
        },
        "id": "MqtEn4pPv6vF",
        "outputId": "812c76d4-f3cd-4d50-8d11-be369f4d3f3d"
      },
      "execution_count": 8,
      "outputs": [
        {
          "output_type": "stream",
          "name": "stdout",
          "text": [
            "P(открыть с первой попытки) = 0.0083\n"
          ]
        }
      ]
    },
    {
      "cell_type": "markdown",
      "source": [
        "Ответ:\n",
        "83%"
      ],
      "metadata": {
        "id": "5zrxDSW5wYhN"
      }
    },
    {
      "cell_type": "markdown",
      "source": [
        "***3) В ящике имеется 15 деталей, из которых 9 окрашены. Рабочий случайным образом извлекает 3 детали. Какова вероятность того, что все извлеченные детали окрашены?***"
      ],
      "metadata": {
        "id": "CbwfrHlCweG3"
      }
    },
    {
      "cell_type": "code",
      "source": [
        "P=combinations(9,3)/combinations(15,3)\n",
        "print(f'P(3 из 3-х окрашены) = {round(P,4)}')"
      ],
      "metadata": {
        "colab": {
          "base_uri": "https://localhost:8080/"
        },
        "id": "eJwzbLhKwftP",
        "outputId": "e5835c37-ade9-4632-8e40-9fecf4777976"
      },
      "execution_count": 9,
      "outputs": [
        {
          "output_type": "stream",
          "name": "stdout",
          "text": [
            "P(3 из 3-х окрашены) = 0.1846\n"
          ]
        }
      ]
    },
    {
      "cell_type": "code",
      "source": [
        "print(f'P(3 из 3-х окрашены) = {round(9/15*8/14*7/13,4)}')"
      ],
      "metadata": {
        "colab": {
          "base_uri": "https://localhost:8080/"
        },
        "id": "xUzTYlZ8wmNz",
        "outputId": "2ef4f79b-63ba-4c2c-dc83-d51456220699"
      },
      "execution_count": 10,
      "outputs": [
        {
          "output_type": "stream",
          "name": "stdout",
          "text": [
            "P(3 из 3-х окрашены) = 0.1846\n"
          ]
        }
      ]
    },
    {
      "cell_type": "markdown",
      "source": [
        "Ответ:\n",
        "18,46%"
      ],
      "metadata": {
        "id": "xzMSdTujwpV7"
      }
    },
    {
      "cell_type": "markdown",
      "source": [
        "***4) В лотерее 100 билетов. Из них 2 выигрышных. Какова вероятность того, что 2 приобретенных билета окажутся выигрышными?***"
      ],
      "metadata": {
        "id": "8eDThkrTwstX"
      }
    },
    {
      "cell_type": "code",
      "source": [
        "P=1/combinations(100,2)\n",
        "print(f'P(оба выигрышных = {round(P,4)})')"
      ],
      "metadata": {
        "colab": {
          "base_uri": "https://localhost:8080/"
        },
        "id": "yBNGl8uJw0TR",
        "outputId": "ecaa0975-5d00-4b09-863d-3e06c97602dc"
      },
      "execution_count": 11,
      "outputs": [
        {
          "output_type": "stream",
          "name": "stdout",
          "text": [
            "P(оба выигрышных = 0.0002)\n"
          ]
        }
      ]
    },
    {
      "cell_type": "markdown",
      "source": [
        "Ответ:\n",
        "0,02%"
      ],
      "metadata": {
        "id": "7cFAcapUw7-F"
      }
    }
  ]
}